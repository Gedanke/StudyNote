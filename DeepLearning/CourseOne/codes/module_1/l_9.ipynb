{
 "cells": [
  {
   "cell_type": "code",
   "execution_count": 8,
   "metadata": {
    "execution": {
     "iopub.execute_input": "2020-10-13T07:43:03.672316Z",
     "iopub.status.busy": "2020-10-13T07:43:03.671668Z",
     "iopub.status.idle": "2020-10-13T07:43:03.691572Z",
     "shell.execute_reply": "2020-10-13T07:43:03.690623Z",
     "shell.execute_reply.started": "2020-10-13T07:43:03.672259Z"
    }
   },
   "outputs": [
    {
     "name": "stderr",
     "output_type": "stream",
     "text": [
      "UsageError: unrecognized arguments: #IPython notebook中的魔法方法，这样每次运行后可以直接得到图像，不再需要使用plt.show()\n"
     ]
    }
   ],
   "source": [
    "%matplotlib inline #IPython notebook中的魔法方法，这样每次运行后可以直接得到图像，不再需要使用plt.show()\n",
    "%config InlineBackend.figure_format = 'retina'\n",
    "import matplotlib.pyplot as plt\n",
    "#import pandas as pd\n",
    "import numpy as np\n",
    "import seaborn as sns\n",
    "import warnings\n",
    "import mnist\n",
    "\n",
    "warnings.filterwarnings('ignore')\n",
    "\n",
    "from keras.models import Model\n",
    "from keras.layers import Dense, Input\n",
    "from keras.datasets import mnist\n",
    "from keras.regularizers import l1\n",
    "from keras.optimizers import adam_v2"
   ]
  },
  {
   "cell_type": "markdown",
   "metadata": {},
   "source": [
    "# 在MNIST上训练Autoencoder "
   ]
  },
  {
   "cell_type": "code",
   "execution_count": null,
   "metadata": {
    "execution": {
     "iopub.execute_input": "2020-10-13T06:38:02.286832Z",
     "iopub.status.busy": "2020-10-13T06:38:02.286442Z",
     "iopub.status.idle": "2020-10-13T06:38:03.067779Z",
     "shell.execute_reply": "2020-10-13T06:38:03.066966Z",
     "shell.execute_reply.started": "2020-10-13T06:38:02.286789Z"
    }
   },
   "outputs": [],
   "source": [
    "(x_train, y_train), (x_test, y_test) = mnist.load_data()\n",
    "\n",
    "# 数据预处理\n",
    "x_train = x_train.astype('float32') / 255.0\n",
    "x_test = x_test.astype('float32') / 255.0\n",
    "x_train = x_train.reshape(len(x_train), -1)\n",
    "x_test = x_test.reshape(len(x_test),-1)\n",
    "\n",
    "print(x_train.shape)\n",
    "print(x_test.shape)"
   ]
  },
  {
   "cell_type": "code",
   "execution_count": null,
   "metadata": {
    "execution": {
     "iopub.execute_input": "2020-10-13T06:38:03.069601Z",
     "iopub.status.busy": "2020-10-13T06:38:03.069305Z",
     "iopub.status.idle": "2020-10-13T06:38:20.706763Z",
     "shell.execute_reply": "2020-10-13T06:38:20.705015Z",
     "shell.execute_reply.started": "2020-10-13T06:38:03.069573Z"
    }
   },
   "outputs": [],
   "source": [
    "# 输入的大小\n",
    "input_size = 784\n",
    "# 隐藏层神经元的大小\n",
    "hidden_size = 64\n",
    "# 压缩向量长度为32\n",
    "compression_size = 32\n",
    "\n",
    "# autoencoder网络定义\n",
    "input_img = Input(shape=(input_size,))\n",
    "hidden_1 = Dense(hidden_size, activation='relu')(input_img)\n",
    "compressed_vector = Dense(compression_size, activation='relu')(hidden_1)\n",
    "hidden_2 = Dense(hidden_size, activation='relu')(compressed_vector)\n",
    "output_img = Dense(input_size, activation='sigmoid')(hidden_2)\n",
    "\n",
    "autoencoder = Model(input_img, output_img)\n",
    "autoencoder.compile(optimizer='adam', loss='binary_crossentropy')\n",
    "autoencoder.fit(x_train, x_train, epochs=3)"
   ]
  },
  {
   "cell_type": "code",
   "execution_count": null,
   "metadata": {
    "execution": {
     "iopub.execute_input": "2020-10-13T06:38:20.711195Z",
     "iopub.status.busy": "2020-10-13T06:38:20.710495Z",
     "iopub.status.idle": "2020-10-13T06:38:21.946269Z",
     "shell.execute_reply": "2020-10-13T06:38:21.945300Z",
     "shell.execute_reply.started": "2020-10-13T06:38:20.711127Z"
    }
   },
   "outputs": [],
   "source": [
    "decoded_imgs = autoencoder.predict(x_test)\n",
    "\n",
    "# number of example digits to show\n",
    "n = 5\n",
    "plt.figure(figsize=(10, 4.5))\n",
    "for i in range(n):\n",
    "    # plot original image\n",
    "    ax = plt.subplot(2, n, i + 1)\n",
    "    plt.imshow(x_test[i].reshape((28, 28)))\n",
    "    plt.gray()\n",
    "    ax.get_xaxis().set_visible(False)\n",
    "    ax.get_yaxis().set_visible(False)\n",
    "    if i == int(n/2):\n",
    "        ax.set_title('Original Images')\n",
    "\n",
    "    # plot reconstruction \n",
    "    ax = plt.subplot(2, n, i + 1 + n)\n",
    "    plt.imshow(decoded_imgs[i].reshape((28, 28)))\n",
    "    plt.gray()\n",
    "    ax.get_xaxis().set_visible(False)\n",
    "    ax.get_yaxis().set_visible(False)\n",
    "    if i == int(n/2):\n",
    "        ax.set_title('Reconstructed Images')\n"
   ]
  },
  {
   "cell_type": "markdown",
   "metadata": {},
   "source": [
    "# 降噪自动编码器（Denoising Autoencoder）"
   ]
  },
  {
   "cell_type": "code",
   "execution_count": null,
   "metadata": {
    "execution": {
     "iopub.execute_input": "2020-10-13T06:38:21.947898Z",
     "iopub.status.busy": "2020-10-13T06:38:21.947573Z",
     "iopub.status.idle": "2020-10-13T06:38:26.848379Z",
     "shell.execute_reply": "2020-10-13T06:38:26.847430Z",
     "shell.execute_reply.started": "2020-10-13T06:38:21.947869Z"
    }
   },
   "outputs": [],
   "source": [
    "# 生成带噪音的数据\n",
    "noise_factor = 0.4\n",
    "x_train_noisy = x_train + noise_factor * np.random.normal(size=x_train.shape) \n",
    "x_test_noisy = x_test + noise_factor * np.random.normal(size=x_test.shape)\n",
    "\n",
    "# 清理小于0与大于1的数据\n",
    "x_train_noisy = np.clip(x_train_noisy, 0.0, 1.0)\n",
    "x_test_noisy = np.clip(x_test_noisy, 0.0, 1.0)\n",
    "\n",
    "n = 5\n",
    "plt.figure(figsize=(10, 4.5))\n",
    "for i in range(n):\n",
    "    # plot original image\n",
    "    ax = plt.subplot(2, n, i + 1)\n",
    "    plt.imshow(x_test[i].reshape(28, 28))\n",
    "    plt.gray()\n",
    "    ax.get_xaxis().set_visible(False)\n",
    "    ax.get_yaxis().set_visible(False)\n",
    "    if i == int(n/2):\n",
    "       ax.set_title('Original Images')\n",
    "\n",
    "    # plot noisy image \n",
    "    ax = plt.subplot(2, n, i + 1 + n)\n",
    "    plt.imshow(x_test_noisy[i].reshape(28, 28))\n",
    "    plt.gray()\n",
    "    ax.get_xaxis().set_visible(False)\n",
    "    ax.get_yaxis().set_visible(False)\n",
    "    if i == int(n/2):\n",
    "        ax.set_title('Noisy Input')"
   ]
  },
  {
   "cell_type": "code",
   "execution_count": null,
   "metadata": {
    "execution": {
     "iopub.execute_input": "2020-10-13T06:38:26.850190Z",
     "iopub.status.busy": "2020-10-13T06:38:26.849863Z",
     "iopub.status.idle": "2020-10-13T06:38:43.363317Z",
     "shell.execute_reply": "2020-10-13T06:38:43.362114Z",
     "shell.execute_reply.started": "2020-10-13T06:38:26.850160Z"
    }
   },
   "outputs": [],
   "source": [
    "# 输入的大小\n",
    "input_size = 784\n",
    "# 隐藏层神经元的大小\n",
    "hidden_size = 64\n",
    "# 压缩向量长度为32\n",
    "compression_size = 32\n",
    "\n",
    "# denoising autoencoder与之前定义的一样\n",
    "input_img = Input(shape=(input_size,))\n",
    "hidden_1 = Dense(hidden_size, activation='relu')(input_img)\n",
    "compressed_vector = Dense(compression_size, activation='relu')(hidden_1)\n",
    "hidden_2 = Dense(hidden_size, activation='relu')(compressed_vector)\n",
    "output_img = Dense(input_size, activation='sigmoid')(hidden_2)\n",
    "\n",
    "autoencoder = Model(input_img, output_img)\n",
    "autoencoder.compile(optimizer='adam', loss='binary_crossentropy')\n",
    "autoencoder.fit(x_train_noisy, x_train, epochs=3)"
   ]
  },
  {
   "cell_type": "code",
   "execution_count": null,
   "metadata": {
    "execution": {
     "iopub.execute_input": "2020-10-13T06:38:43.365547Z",
     "iopub.status.busy": "2020-10-13T06:38:43.365201Z",
     "iopub.status.idle": "2020-10-13T06:38:44.675468Z",
     "shell.execute_reply": "2020-10-13T06:38:44.674461Z",
     "shell.execute_reply.started": "2020-10-13T06:38:43.365515Z"
    }
   },
   "outputs": [],
   "source": [
    "# 可视化预测结果\n",
    "plt.figure(figsize=(10, 7))\n",
    "\n",
    "images = autoencoder.predict(x_test_noisy)\n",
    "\n",
    "for i in range(n):\n",
    "    # plot original image\n",
    "    ax = plt.subplot(3, n, i + 1)\n",
    "    plt.imshow(x_test[i].reshape(28, 28))\n",
    "    plt.gray()\n",
    "    ax.get_xaxis().set_visible(False)\n",
    "    ax.get_yaxis().set_visible(False)\n",
    "    if i == int(n/2):\n",
    "        ax.set_title('Original Images')\n",
    "\n",
    "    # plot noisy image \n",
    "    ax = plt.subplot(3, n, i + 1 + n)\n",
    "    plt.imshow(x_test_noisy[i].reshape(28, 28))\n",
    "    plt.gray()\n",
    "    ax.get_xaxis().set_visible(False)\n",
    "    ax.get_yaxis().set_visible(False)\n",
    "    if i == int(n/2):\n",
    "        ax.set_title('Noisy Input')\n",
    "        \n",
    "    # plot noisy image \n",
    "    ax = plt.subplot(3, n, i + 1 + 2*n)\n",
    "    plt.imshow(images[i].reshape(28, 28))\n",
    "    plt.gray()\n",
    "    ax.get_xaxis().set_visible(False)\n",
    "    ax.get_yaxis().set_visible(False)\n",
    "    if i == int(n/2):\n",
    "        ax.set_title('Autoencoder Output')"
   ]
  },
  {
   "cell_type": "markdown",
   "metadata": {},
   "source": [
    "# 稀疏编码器（Sparse Autoencoders）"
   ]
  },
  {
   "cell_type": "markdown",
   "metadata": {},
   "source": [
    "## 标准的Autoencoders"
   ]
  },
  {
   "cell_type": "code",
   "execution_count": null,
   "metadata": {
    "execution": {
     "iopub.execute_input": "2020-10-13T08:26:21.081660Z",
     "iopub.status.busy": "2020-10-13T08:26:21.081103Z",
     "iopub.status.idle": "2020-10-13T08:28:05.573078Z",
     "shell.execute_reply": "2020-10-13T08:28:05.571213Z",
     "shell.execute_reply.started": "2020-10-13T08:26:21.081609Z"
    }
   },
   "outputs": [],
   "source": [
    "# 输入的大小\n",
    "input_size = 784\n",
    "# 隐藏层神经元的大小\n",
    "hidden_size = 64\n",
    "# 压缩向量长度为32\n",
    "compression_size = 32\n",
    "\n",
    "# autoencoder网络定义\n",
    "input_img = Input(shape=(input_size,))\n",
    "hidden_1 = Dense(hidden_size, activation='relu')(input_img)\n",
    "compressed_vector = Dense(compression_size, activation='relu')(hidden_1)\n",
    "hidden_2 = Dense(hidden_size, activation='relu')(compressed_vector)\n",
    "output_img = Dense(input_size, activation='sigmoid')(hidden_2)\n",
    "\n",
    "autoencoder = Model(input_img, output_img)\n",
    "autoencoder.compile(optimizer='adam', loss='binary_crossentropy')\n",
    "autoencoder.fit(x_train, x_train, epochs=20)\n",
    "\n",
    "encoder_autoencoder = Model(input_img, compressed_vector)\n"
   ]
  },
  {
   "cell_type": "code",
   "execution_count": null,
   "metadata": {
    "execution": {
     "iopub.execute_input": "2020-10-13T07:46:01.622304Z",
     "iopub.status.busy": "2020-10-13T07:46:01.621772Z",
     "iopub.status.idle": "2020-10-13T07:46:02.165974Z",
     "shell.execute_reply": "2020-10-13T07:46:02.165079Z",
     "shell.execute_reply.started": "2020-10-13T07:46:01.622252Z"
    }
   },
   "outputs": [],
   "source": [
    "autoencoder.evaluate(x_test, x_test)"
   ]
  },
  {
   "cell_type": "markdown",
   "metadata": {},
   "source": [
    "## Sparse Autoencoders"
   ]
  },
  {
   "cell_type": "code",
   "execution_count": null,
   "metadata": {
    "execution": {
     "iopub.execute_input": "2020-10-13T09:12:09.442590Z",
     "iopub.status.busy": "2020-10-13T09:12:09.441907Z",
     "iopub.status.idle": "2020-10-13T09:13:00.018469Z",
     "shell.execute_reply": "2020-10-13T09:13:00.017387Z",
     "shell.execute_reply.started": "2020-10-13T09:12:09.442532Z"
    }
   },
   "outputs": [],
   "source": [
    "# sparse autoencoder网络定义\n",
    "input_img = Input(shape=(input_size,))\n",
    "hidden_1 = Dense(hidden_size, activation='relu')(input_img)\n",
    "compressed_vector = Dense(compression_size, activation='relu', activity_regularizer=l1(0.0001))(hidden_1)\n",
    "hidden_2 = Dense(hidden_size, activation='relu')(compressed_vector)\n",
    "output_img = Dense(input_size, activation='sigmoid')(hidden_2)\n",
    "\n",
    "sparse_autoencoder = Model(input_img, output_img)\n",
    "sparse_autoencoder.compile(optimizer='adam', loss='binary_crossentropy')\n",
    "sparse_autoencoder.fit(x_train, x_train, epochs=10)\n",
    "\n",
    "\n",
    "encoder_sparse_autoencoder = Model(input_img, compressed_vector)\n"
   ]
  },
  {
   "cell_type": "code",
   "execution_count": null,
   "metadata": {
    "execution": {
     "iopub.execute_input": "2020-10-13T07:42:19.305789Z",
     "iopub.status.busy": "2020-10-13T07:42:19.305232Z",
     "iopub.status.idle": "2020-10-13T07:42:20.075122Z",
     "shell.execute_reply": "2020-10-13T07:42:20.074016Z",
     "shell.execute_reply.started": "2020-10-13T07:42:19.305733Z"
    }
   },
   "outputs": [],
   "source": [
    "sparse_autoencoder.evaluate(x_test, x_test)"
   ]
  },
  {
   "cell_type": "code",
   "execution_count": null,
   "metadata": {
    "execution": {
     "iopub.execute_input": "2020-10-13T09:24:24.061897Z",
     "iopub.status.busy": "2020-10-13T09:24:24.061480Z",
     "iopub.status.idle": "2020-10-13T09:24:28.498469Z",
     "shell.execute_reply": "2020-10-13T09:24:28.497771Z",
     "shell.execute_reply.started": "2020-10-13T09:24:24.061861Z"
    }
   },
   "outputs": [],
   "source": [
    "standard_scores = encoder_autoencoder.predict(x_test).ravel()\n",
    "sparse_autoencoder = encoder_sparse_autoencoder.predict(x_test).ravel()\n",
    "sns.distplot(standard_scores,hist=True, label='standard model')\n",
    "sns.distplot(sparse_autoencoder, hist=True, label='regularized model')\n",
    "plt.legend()"
   ]
  }
 ],
 "metadata": {
  "kernelspec": {
   "display_name": "Python 3",
   "language": "python",
   "name": "python3"
  },
  "language_info": {
   "codemirror_mode": {
    "name": "ipython",
    "version": 3
   },
   "file_extension": ".py",
   "mimetype": "text/x-python",
   "name": "python",
   "nbconvert_exporter": "python",
   "pygments_lexer": "ipython3",
   "version": "3.7.6"
  }
 },
 "nbformat": 4,
 "nbformat_minor": 4
}